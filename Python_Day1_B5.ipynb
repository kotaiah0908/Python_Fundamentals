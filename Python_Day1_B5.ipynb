{
 "cells": [
  {
   "cell_type": "code",
   "execution_count": 1,
   "metadata": {},
   "outputs": [],
   "source": [
    "#how to get the version of python that I am using\n",
    "#python\n",
    "\n",
    "# to print the version (!python) is not working in my system. I am using Windows 7 OS Dell Laptop"
   ]
  },
  {
   "cell_type": "code",
   "execution_count": 2,
   "metadata": {},
   "outputs": [],
   "source": [
    "#Understanding the varaiables   ---> (# is used for commenting)\n",
    "\n",
    "#it is nothing but the assignment of name or lables to particular code\n",
    "\n",
    "#conditions to be remembered while assigning the name to variables\n",
    "\n",
    "    #1. There shouldn't be any spaces in between the varaiable name\n",
    "    Eg: first name = kotaiah     ------> wrong approach\n",
    "        firstname = kotaiah or first_name = kotaiah  -------> correct approach\n",
    "    #2. we shouldn't use any numbers with the starting of variable name\n",
    "    Eg: 1abc = kotaiah     ----> wrong apporach\n",
    "       abc1 = kotaiah     ----> correct approach\n",
    "    #3. we shouldn't use any special charaters while declaring variable name\n",
    "    Eg: $xyz = kotaiah     ----> wrong approach\n",
    "     "
   ]
  },
  {
   "cell_type": "code",
   "execution_count": null,
   "metadata": {},
   "outputs": [],
   "source": [
    "# 1. Introduction to Data types in Python\n",
    "    # string Introductioin:\n",
    "        A string is nothing but a series of characters \n",
    "      # How to define a string?\n",
    "        Any thing defined in between the quotes is considered as string\n",
    "        Eg: 'this is a string' or \"this is a string\" or \"\"\"this is a string\"\"\"\n",
    "      # string is immutable data type\n",
    "        immutable: once the value gets assigned to it, it can not be changed or modified."
   ]
  },
  {
   "cell_type": "code",
   "execution_count": 3,
   "metadata": {},
   "outputs": [
    {
     "name": "stdout",
     "output_type": "stream",
     "text": [
      "python\n"
     ]
    }
   ],
   "source": [
    "# Coding part\n",
    "x = 'python'\n",
    "print(x)"
   ]
  },
  {
   "cell_type": "code",
   "execution_count": 4,
   "metadata": {},
   "outputs": [
    {
     "data": {
      "text/plain": [
       "str"
      ]
     },
     "execution_count": 4,
     "metadata": {},
     "output_type": "execute_result"
    }
   ],
   "source": [
    "type(x)"
   ]
  },
  {
   "cell_type": "code",
   "execution_count": null,
   "metadata": {},
   "outputs": [],
   "source": [
    "# python is case sensitive language"
   ]
  },
  {
   "cell_type": "code",
   "execution_count": 6,
   "metadata": {},
   "outputs": [
    {
     "name": "stdout",
     "output_type": "stream",
     "text": [
      "kotaiah alapati\n",
      "Kotaiah Alapati\n",
      "KOTAIAH ALAPATI\n",
      "kotaiah alapati\n"
     ]
    }
   ],
   "source": [
    "name = 'kotaiah alapati'   #    are the white spaeces\n",
    "print(name)\n",
    "\n",
    "print(name.title())          # title() ----> title case \n",
    "\n",
    "print(name.upper())\n",
    "\n",
    "print(name.lower())\n",
    "\n"
   ]
  },
  {
   "cell_type": "code",
   "execution_count": 7,
   "metadata": {},
   "outputs": [
    {
     "name": "stdout",
     "output_type": "stream",
     "text": [
      "manish rai\n",
      "Manish Rai\n",
      "Hello, manish rai! welcome back\n"
     ]
    }
   ],
   "source": [
    "# F-strings      ----> by using place holders\n",
    "\n",
    "# manish rai\n",
    "first_name = 'manish'\n",
    "last_name = 'rai'\n",
    "\n",
    "full_name = f\"{first_name} {last_name}\"\n",
    "\n",
    "print(full_name)\n",
    "\n",
    "\n",
    "print(full_name.title())\n",
    "\n",
    "print(f\"Hello, {full_name}! welcome back\")"
   ]
  },
  {
   "cell_type": "code",
   "execution_count": null,
   "metadata": {},
   "outputs": [],
   "source": []
  },
  {
   "cell_type": "code",
   "execution_count": null,
   "metadata": {},
   "outputs": [],
   "source": []
  }
 ],
 "metadata": {
  "kernelspec": {
   "display_name": "Python 3",
   "language": "python",
   "name": "python3"
  },
  "language_info": {
   "codemirror_mode": {
    "name": "ipython",
    "version": 3
   },
   "file_extension": ".py",
   "mimetype": "text/x-python",
   "name": "python",
   "nbconvert_exporter": "python",
   "pygments_lexer": "ipython3",
   "version": "3.7.3"
  }
 },
 "nbformat": 4,
 "nbformat_minor": 2
}
