{
 "cells": [
  {
   "cell_type": "code",
   "execution_count": 1,
   "metadata": {},
   "outputs": [],
   "source": [
    "#Introduction to lists:\n",
    "\n",
    "# Definition: A list is a collection of items in a particular order\n",
    "# list is a mutable data type  where we can be able to change and modify once ite get assigned as well"
   ]
  },
  {
   "cell_type": "code",
   "execution_count": 1,
   "metadata": {},
   "outputs": [
    {
     "name": "stdout",
     "output_type": "stream",
     "text": [
      "['sudha', 'karuni', 'venkat', 'danish', 'bhargavi']\n"
     ]
    }
   ],
   "source": [
    "# How to define list: []\n",
    "\n",
    "students=['sudha','karuni','venkat','danish','bhargavi']\n",
    "\n",
    "print(students)"
   ]
  },
  {
   "cell_type": "code",
   "execution_count": 2,
   "metadata": {},
   "outputs": [
    {
     "data": {
      "text/plain": [
       "list"
      ]
     },
     "execution_count": 2,
     "metadata": {},
     "output_type": "execute_result"
    }
   ],
   "source": [
    "type(students)"
   ]
  },
  {
   "cell_type": "code",
   "execution_count": null,
   "metadata": {},
   "outputs": [],
   "source": [
    "# How to access the list elements!\n",
    "\n",
    "# Indexing    ----> indexing starts from default 0\n",
    "\n",
    "# index - 0 --> first element in the list\n",
    "# index - 1 --> seccond element in the list\n"
   ]
  },
  {
   "cell_type": "code",
   "execution_count": 3,
   "metadata": {},
   "outputs": [
    {
     "name": "stdout",
     "output_type": "stream",
     "text": [
      "venkat\n"
     ]
    }
   ],
   "source": [
    "print(students[2])"
   ]
  },
  {
   "cell_type": "code",
   "execution_count": 4,
   "metadata": {},
   "outputs": [
    {
     "name": "stdout",
     "output_type": "stream",
     "text": [
      "danish\n"
     ]
    }
   ],
   "source": [
    "print(students[3])"
   ]
  },
  {
   "cell_type": "code",
   "execution_count": 6,
   "metadata": {},
   "outputs": [
    {
     "name": "stdout",
     "output_type": "stream",
     "text": [
      "bhargavi\n"
     ]
    }
   ],
   "source": [
    "print(students[4])"
   ]
  },
  {
   "cell_type": "code",
   "execution_count": 8,
   "metadata": {},
   "outputs": [
    {
     "name": "stdout",
     "output_type": "stream",
     "text": [
      "you are doing good job, Danish. keep up the good work!\n"
     ]
    }
   ],
   "source": [
    "message= f\"you are doing good job, {students[3].title()}. keep up the good work!\"\n",
    "    \n",
    "print(message)"
   ]
  },
  {
   "cell_type": "code",
   "execution_count": 9,
   "metadata": {},
   "outputs": [
    {
     "name": "stdout",
     "output_type": "stream",
     "text": [
      "you are doing good job, Venkat. keep up the good work!\n"
     ]
    }
   ],
   "source": [
    "message= f\"you are doing good job, {students[2].title()}. keep up the good work!\"\n",
    "\n",
    "print(message)"
   ]
  },
  {
   "cell_type": "code",
   "execution_count": 12,
   "metadata": {},
   "outputs": [
    {
     "name": "stdout",
     "output_type": "stream",
     "text": [
      "['bunty', 'divyasri', 'asrar', 'imran', 'reshma']\n"
     ]
    }
   ],
   "source": [
    "# Changing, adding and removing elements  ****\n",
    "\n",
    "#changing the elements in a list\n",
    "\n",
    "mystudents = ['bunty','divyasri','asrar','imran','reshma']\n",
    "\n",
    "print(mystudents)"
   ]
  },
  {
   "cell_type": "code",
   "execution_count": 13,
   "metadata": {},
   "outputs": [
    {
     "name": "stdout",
     "output_type": "stream",
     "text": [
      "['deep singh', 'divyasri', 'asrar', 'imran', 'reshma']\n"
     ]
    }
   ],
   "source": [
    "mystudents[0]='deep singh'   # bunty is replacing with deep singh\n",
    "\n",
    "print(mystudents)"
   ]
  },
  {
   "cell_type": "code",
   "execution_count": 14,
   "metadata": {},
   "outputs": [
    {
     "name": "stdout",
     "output_type": "stream",
     "text": [
      "['deep singh', 'divyasri', 'asrar', 'imran', 'reshma']\n"
     ]
    }
   ],
   "source": [
    "# adding element in the list\n",
    "\n",
    "print(mystudents)"
   ]
  },
  {
   "cell_type": "code",
   "execution_count": 16,
   "metadata": {},
   "outputs": [
    {
     "name": "stdout",
     "output_type": "stream",
     "text": [
      "['deep singh', 'divyasri', 'asrar', 'imran', 'reshma', 'indrani', 'indrani']\n"
     ]
    }
   ],
   "source": [
    "# req: add 'indrani' to the list below ....?\n",
    "\n",
    "mystudents.append('indrani')    #append will add the element in the last position by default\n",
    "\n",
    "print(mystudents)"
   ]
  },
  {
   "cell_type": "code",
   "execution_count": 17,
   "metadata": {},
   "outputs": [
    {
     "name": "stdout",
     "output_type": "stream",
     "text": [
      "['deep singh', 'divyasri', 'alapati', 'asrar', 'imran', 'reshma', 'indrani', 'indrani']\n"
     ]
    }
   ],
   "source": [
    "# how to add element in a specific position\n",
    "\n",
    "mystudents.insert(2,'alapati')    # insert will add the element in specified position\n",
    "\n",
    "print(mystudents)"
   ]
  },
  {
   "cell_type": "code",
   "execution_count": 18,
   "metadata": {},
   "outputs": [
    {
     "name": "stdout",
     "output_type": "stream",
     "text": [
      "['divyasri', 'alapati', 'asrar', 'imran', 'reshma', 'indrani', 'indrani']\n"
     ]
    }
   ],
   "source": [
    "# Remove the elements from the list\n",
    "\n",
    "del mystudents[0]      # del will delete the element of specified position from the list\n",
    "\n",
    "print(mystudents)"
   ]
  },
  {
   "cell_type": "code",
   "execution_count": 19,
   "metadata": {},
   "outputs": [
    {
     "name": "stdout",
     "output_type": "stream",
     "text": [
      "['divyasri', 'alapati', 'asrar', 'imran', 'reshma', 'indrani', 'indrani']\n"
     ]
    }
   ],
   "source": [
    "# pop() method ---> used for removing elements from the list\n",
    "\n",
    "#  ----> always it will remove the element from the last position if nothing specified\n",
    "\n",
    "print(mystudents)"
   ]
  },
  {
   "cell_type": "code",
   "execution_count": 21,
   "metadata": {},
   "outputs": [
    {
     "name": "stdout",
     "output_type": "stream",
     "text": [
      "['divyasri', 'alapati', 'asrar', 'imran', 'reshma', 'indrani']\n"
     ]
    }
   ],
   "source": [
    "mystudents.pop()\n",
    "\n",
    "print(mystudents)"
   ]
  },
  {
   "cell_type": "code",
   "execution_count": 22,
   "metadata": {},
   "outputs": [
    {
     "name": "stdout",
     "output_type": "stream",
     "text": [
      "['divyasri', 'alapati', 'asrar', 'reshma', 'indrani']\n"
     ]
    }
   ],
   "source": [
    "# remove specific element using pop() method\n",
    "\n",
    "mystudents.pop(3)\n",
    "\n",
    "print(mystudents)"
   ]
  },
  {
   "cell_type": "code",
   "execution_count": 23,
   "metadata": {},
   "outputs": [
    {
     "name": "stdout",
     "output_type": "stream",
     "text": [
      "['divyasri', 'alapati', 'asrar', 'reshma']\n"
     ]
    }
   ],
   "source": [
    "mystudents.pop(4)\n",
    "\n",
    "print(mystudents)"
   ]
  },
  {
   "cell_type": "code",
   "execution_count": null,
   "metadata": {},
   "outputs": [],
   "source": []
  }
 ],
 "metadata": {
  "kernelspec": {
   "display_name": "Python 3",
   "language": "python",
   "name": "python3"
  },
  "language_info": {
   "codemirror_mode": {
    "name": "ipython",
    "version": 3
   },
   "file_extension": ".py",
   "mimetype": "text/x-python",
   "name": "python",
   "nbconvert_exporter": "python",
   "pygments_lexer": "ipython3",
   "version": "3.7.3"
  }
 },
 "nbformat": 4,
 "nbformat_minor": 2
}
