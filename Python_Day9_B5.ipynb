{
 "cells": [
  {
   "cell_type": "code",
   "execution_count": null,
   "metadata": {},
   "outputs": [],
   "source": [
    "# Introduction to Python function:\n",
    "\n",
    "    Functions are named bloks of code that are designed to do one specific job."
   ]
  },
  {
   "cell_type": "code",
   "execution_count": 6,
   "metadata": {},
   "outputs": [],
   "source": [
    "# How to define a function:\n",
    "\n",
    "#**** always use small case for ddefining the function ****\n",
    "\n",
    "def greet_user():\n",
    "     \"\"\"dislay a simple greeting\"\"\" \n",
    "    print('Hello!')"
   ]
  },
  {
   "cell_type": "code",
   "execution_count": 7,
   "metadata": {},
   "outputs": [
    {
     "name": "stdout",
     "output_type": "stream",
     "text": [
      "Hello!\n"
     ]
    }
   ],
   "source": [
    "# calling a function:\n",
    "\n",
    "greet_user()"
   ]
  },
  {
   "cell_type": "code",
   "execution_count": 8,
   "metadata": {},
   "outputs": [
    {
     "name": "stdout",
     "output_type": "stream",
     "text": [
      "Hello, Srini!\n"
     ]
    }
   ],
   "source": [
    "def greet_user(username):    ----> parameter passing\n",
    "     \"\"\"display a greeting message to the user\"\"\" \n",
    "    print(f\"Hello, {username.title()}!\")\n",
    "\n",
    "greet_user('srini')      ----> arguments passing"
   ]
  },
  {
   "cell_type": "code",
   "execution_count": 9,
   "metadata": {},
   "outputs": [
    {
     "name": "stdout",
     "output_type": "stream",
     "text": [
      "Hello, Kethan!\n"
     ]
    }
   ],
   "source": [
    "greet_user('kethan')"
   ]
  },
  {
   "cell_type": "code",
   "execution_count": 10,
   "metadata": {},
   "outputs": [
    {
     "name": "stdout",
     "output_type": "stream",
     "text": [
      "Hello, Kotaiah!\n"
     ]
    }
   ],
   "source": [
    "greet_user('kotaiah')"
   ]
  },
  {
   "cell_type": "code",
   "execution_count": 11,
   "metadata": {},
   "outputs": [],
   "source": [
    "# Type of oarguments\n",
    "\n",
    "# 1. positional arguments\n",
    "# 2. keyword arguments"
   ]
  },
  {
   "cell_type": "code",
   "execution_count": 16,
   "metadata": {},
   "outputs": [],
   "source": [
    "def describe_pet(animal_type,pet_name):\n",
    "    \"\"\"display information about the pet\"\"\"\n",
    "    print(f\"\\n I have a {animal_type}\")\n",
    "    print(f\" my {animal_type}'s name is {pet_name}!\")"
   ]
  },
  {
   "cell_type": "code",
   "execution_count": 15,
   "metadata": {},
   "outputs": [
    {
     "name": "stdout",
     "output_type": "stream",
     "text": [
      "\n",
      " I have a dog\n",
      " my dog's name is bruno\n"
     ]
    }
   ],
   "source": [
    "describe_pet('dog','bruno')"
   ]
  },
  {
   "cell_type": "code",
   "execution_count": 17,
   "metadata": {},
   "outputs": [
    {
     "name": "stdout",
     "output_type": "stream",
     "text": [
      "\n",
      " I have a cat\n",
      " my cat's name is snowbell!\n"
     ]
    }
   ],
   "source": [
    "describe_pet('cat','snowbell')"
   ]
  },
  {
   "cell_type": "code",
   "execution_count": 18,
   "metadata": {},
   "outputs": [
    {
     "name": "stdout",
     "output_type": "stream",
     "text": [
      "\n",
      " I have a sheru\n",
      " my sheru's name is dog!\n"
     ]
    }
   ],
   "source": [
    "describe_pet('sheru','dog')  # positional arguments"
   ]
  },
  {
   "cell_type": "code",
   "execution_count": 20,
   "metadata": {},
   "outputs": [],
   "source": [
    "# in the above example arguments were changed in the position. so output was displayed in meaning less"
   ]
  },
  {
   "cell_type": "code",
   "execution_count": 21,
   "metadata": {},
   "outputs": [
    {
     "name": "stdout",
     "output_type": "stream",
     "text": [
      "\n",
      " I have a dog\n",
      " my dog's name is sheru!\n"
     ]
    }
   ],
   "source": [
    "# above statement can be corrected using keyword arguments\n",
    "\n",
    "describe_pet(pet_name='sheru',animal_type='dog')"
   ]
  },
  {
   "cell_type": "code",
   "execution_count": 22,
   "metadata": {},
   "outputs": [
    {
     "name": "stdout",
     "output_type": "stream",
     "text": [
      "\n",
      " I have a dog\n",
      " my dog's name is sheru!\n"
     ]
    }
   ],
   "source": [
    "# here we have added keywords to values, so it will pass the values as per definition\n",
    "# so it is called as keywords arguments passing\n",
    "\n",
    "# the same can also be written as below\n",
    "\n",
    "describe_pet(animal_type='dog',pet_name='sheru')"
   ]
  },
  {
   "cell_type": "code",
   "execution_count": null,
   "metadata": {},
   "outputs": [],
   "source": [
    "# there will be no impact if we change the position of keywords in argument passing, the value will be passed properly"
   ]
  }
 ],
 "metadata": {
  "kernelspec": {
   "display_name": "Python 3",
   "language": "python",
   "name": "python3"
  },
  "language_info": {
   "codemirror_mode": {
    "name": "ipython",
    "version": 3
   },
   "file_extension": ".py",
   "mimetype": "text/x-python",
   "name": "python",
   "nbconvert_exporter": "python",
   "pygments_lexer": "ipython3",
   "version": "3.7.3"
  }
 },
 "nbformat": 4,
 "nbformat_minor": 2
}
