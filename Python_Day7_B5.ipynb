{
 "cells": [
  {
   "cell_type": "code",
   "execution_count": 1,
   "metadata": {},
   "outputs": [
    {
     "name": "stdout",
     "output_type": "stream",
     "text": [
      "{'colour': 'green', 'points': 5}\n"
     ]
    }
   ],
   "source": [
    "# Dictionary continuation\n",
    "\n",
    "alien_0 = {'colour':'green','points':5}\n",
    "\n",
    "print(alien_0)"
   ]
  },
  {
   "cell_type": "code",
   "execution_count": 2,
   "metadata": {},
   "outputs": [
    {
     "data": {
      "text/plain": [
       "dict"
      ]
     },
     "execution_count": 2,
     "metadata": {},
     "output_type": "execute_result"
    }
   ],
   "source": [
    "type(alien_0)"
   ]
  },
  {
   "cell_type": "code",
   "execution_count": 3,
   "metadata": {},
   "outputs": [
    {
     "name": "stdout",
     "output_type": "stream",
     "text": [
      "{'colour': 'green', 'points': 5, 'x-position': 0, 'y-position': 25}\n"
     ]
    }
   ],
   "source": [
    "# how to addd new key-values pairs in dict.\n",
    "\n",
    "alien_0['x-position'] = 0\n",
    "alien_0['y-position'] = 25\n",
    "\n",
    "print(alien_0)"
   ]
  },
  {
   "cell_type": "code",
   "execution_count": 4,
   "metadata": {},
   "outputs": [
    {
     "name": "stdout",
     "output_type": "stream",
     "text": [
      " The alien is in green\n",
      " The alien is in yellow\n"
     ]
    }
   ],
   "source": [
    "# How to modify a key value pain in a dict\n",
    "\n",
    "alien_0 = {'colour':'green','points':5}\n",
    "\n",
    "print(f\" The alien is in {alien_0['colour']}\")\n",
    "\n",
    "alien_0['colour'] = 'yellow'\n",
    "\n",
    "print(f\" The alien is in {alien_0['colour']}\")\n",
    "      "
   ]
  },
  {
   "cell_type": "code",
   "execution_count": 5,
   "metadata": {},
   "outputs": [
    {
     "name": "stdout",
     "output_type": "stream",
     "text": [
      "{'colour': 'yellow'}\n"
     ]
    }
   ],
   "source": [
    "# how to remove or delete a key value pair?\n",
    "\n",
    "del alien_0['points']\n",
    "\n",
    "print(alien_0)"
   ]
  },
  {
   "cell_type": "code",
   "execution_count": 6,
   "metadata": {},
   "outputs": [
    {
     "name": "stdout",
     "output_type": "stream",
     "text": [
      "{'bunty': 'python', 'divya': 'c', 'ram': 'c++', 'richa': 'swift', 'sagar': 'java'}\n"
     ]
    }
   ],
   "source": [
    "fav_languages = {'bunty':'python',\n",
    "                'divya':'c',\n",
    "                'ram':'c++',\n",
    "                'richa':'swift',\n",
    "                'sagar':'java',}\n",
    "\n",
    "print(fav_languages)"
   ]
  },
  {
   "cell_type": "code",
   "execution_count": 7,
   "metadata": {},
   "outputs": [
    {
     "name": "stdout",
     "output_type": "stream",
     "text": [
      "Divya's favourite language is C\n"
     ]
    }
   ],
   "source": [
    "# Scenario: A survey conducted in a company to find the people fav language & the people responded like above\n",
    "\n",
    "language = fav_languages['divya'].title()\n",
    "\n",
    "print(f\"Divya's favourite language is {language}\")"
   ]
  },
  {
   "cell_type": "code",
   "execution_count": 8,
   "metadata": {},
   "outputs": [
    {
     "name": "stdout",
     "output_type": "stream",
     "text": [
      "Richa's favourite language is Swift\n"
     ]
    }
   ],
   "source": [
    "language = fav_languages['richa'].title()\n",
    "\n",
    "print(f\"Richa's favourite language is {language}\")"
   ]
  },
  {
   "cell_type": "code",
   "execution_count": 9,
   "metadata": {},
   "outputs": [
    {
     "ename": "KeyError",
     "evalue": "'points'",
     "output_type": "error",
     "traceback": [
      "\u001b[1;31m---------------------------------------------------------------------------\u001b[0m",
      "\u001b[1;31mKeyError\u001b[0m                                  Traceback (most recent call last)",
      "\u001b[1;32m<ipython-input-9-f1f50dde710a>\u001b[0m in \u001b[0;36m<module>\u001b[1;34m\u001b[0m\n\u001b[1;32m----> 1\u001b[1;33m \u001b[0mprint\u001b[0m\u001b[1;33m(\u001b[0m\u001b[0malien_0\u001b[0m\u001b[1;33m[\u001b[0m\u001b[1;34m'points'\u001b[0m\u001b[1;33m]\u001b[0m\u001b[1;33m)\u001b[0m\u001b[1;33m\u001b[0m\u001b[1;33m\u001b[0m\u001b[0m\n\u001b[0m",
      "\u001b[1;31mKeyError\u001b[0m: 'points'"
     ]
    }
   ],
   "source": [
    "print(alien_0['points'])"
   ]
  },
  {
   "cell_type": "code",
   "execution_count": 11,
   "metadata": {},
   "outputs": [
    {
     "name": "stdout",
     "output_type": "stream",
     "text": [
      "no points value assigned\n"
     ]
    }
   ],
   "source": [
    "point_value = alien_0.get('points','no points value assigned')  # to find the existene of key if not then passing default value\n",
    "\n",
    "print(point_value)"
   ]
  },
  {
   "cell_type": "code",
   "execution_count": 12,
   "metadata": {},
   "outputs": [],
   "source": [
    "# ***** looping through a dictionary: ******\n",
    "\n",
    "user_0 = {'username':'abcde',\n",
    "         'fname':'first',\n",
    "         'lname':'last',\n",
    "         }"
   ]
  },
  {
   "cell_type": "code",
   "execution_count": 13,
   "metadata": {},
   "outputs": [
    {
     "name": "stdout",
     "output_type": "stream",
     "text": [
      "\n",
      "Key: username\n",
      "\n",
      "Value: abcde\n",
      "\n",
      "Key: fname\n",
      "\n",
      "Value: first\n",
      "\n",
      "Key: lname\n",
      "\n",
      "Value: last\n"
     ]
    }
   ],
   "source": [
    "for k,v in user_0.items():\n",
    "    print(f\"\\nKey: {k}\")\n",
    "    print(f\"\\nValue: {v}\")"
   ]
  },
  {
   "cell_type": "code",
   "execution_count": null,
   "metadata": {},
   "outputs": [],
   "source": []
  }
 ],
 "metadata": {
  "kernelspec": {
   "display_name": "Python 3",
   "language": "python",
   "name": "python3"
  },
  "language_info": {
   "codemirror_mode": {
    "name": "ipython",
    "version": 3
   },
   "file_extension": ".py",
   "mimetype": "text/x-python",
   "name": "python",
   "nbconvert_exporter": "python",
   "pygments_lexer": "ipython3",
   "version": "3.7.3"
  }
 },
 "nbformat": 4,
 "nbformat_minor": 2
}
