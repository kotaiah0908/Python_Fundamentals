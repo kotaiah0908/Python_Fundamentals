{
 "cells": [
  {
   "cell_type": "code",
   "execution_count": 1,
   "metadata": {},
   "outputs": [],
   "source": [
    "# reading the file in python:   ********\n",
    "\n",
    "# open notepad , create a sample file and save the file\n",
    "\n",
    "# we will read that file in python"
   ]
  },
  {
   "cell_type": "code",
   "execution_count": 2,
   "metadata": {},
   "outputs": [],
   "source": [
    "# Uploaded the file into Jupiter launch, now will read the file"
   ]
  },
  {
   "cell_type": "code",
   "execution_count": 3,
   "metadata": {},
   "outputs": [
    {
     "name": "stdout",
     "output_type": "stream",
     "text": [
      "HI This is Kotaiah Alapati\n",
      "Started learning Python programming by the instructor Faiyaz!!\n"
     ]
    }
   ],
   "source": [
    "with open('sample.txt') as file_object:   # alias_name  --> we can use any string\n",
    "    contents = file_object.read()\n",
    "\n",
    "print(contents)"
   ]
  },
  {
   "cell_type": "code",
   "execution_count": 4,
   "metadata": {},
   "outputs": [
    {
     "ename": "SyntaxError",
     "evalue": "invalid syntax (<ipython-input-4-65ca242c47b1>, line 2)",
     "output_type": "error",
     "traceback": [
      "\u001b[1;36m  File \u001b[1;32m\"<ipython-input-4-65ca242c47b1>\"\u001b[1;36m, line \u001b[1;32m2\u001b[0m\n\u001b[1;33m    with open(E:\\Python_Fundamentals_by_Faiyaz\\sample.txt) as file_data:\u001b[0m\n\u001b[1;37m               ^\u001b[0m\n\u001b[1;31mSyntaxError\u001b[0m\u001b[1;31m:\u001b[0m invalid syntax\n"
     ]
    }
   ],
   "source": [
    "# how to read the file from locan machine\n",
    "with open(E:\\Python_Fundamentals_by_Faiyaz\\sample.txt) as file_data:\n",
    "    contents = file_data.read()\n",
    "    \n",
    "print(contents)"
   ]
  },
  {
   "cell_type": "code",
   "execution_count": 5,
   "metadata": {},
   "outputs": [
    {
     "name": "stdout",
     "output_type": "stream",
     "text": [
      "HI This is Kotaiah Alapati\n",
      "Started learning Python programming by the instructor Faiyaz!!\n"
     ]
    }
   ],
   "source": [
    "with open('E:\\Python_Fundamentals_by_Faiyaz\\sample.txt') as file_data:\n",
    "    contents = file_data.read()\n",
    "    \n",
    "print(contents)"
   ]
  },
  {
   "cell_type": "code",
   "execution_count": 6,
   "metadata": {},
   "outputs": [],
   "source": [
    "# above error due to missing single quotes\n",
    "# always the file name should be in single quotes"
   ]
  },
  {
   "cell_type": "code",
   "execution_count": 7,
   "metadata": {},
   "outputs": [
    {
     "ename": "SyntaxError",
     "evalue": "invalid syntax (<ipython-input-7-3053719e1ac9>, line 3)",
     "output_type": "error",
     "traceback": [
      "\u001b[1;36m  File \u001b[1;32m\"<ipython-input-7-3053719e1ac9>\"\u001b[1;36m, line \u001b[1;32m3\u001b[0m\n\u001b[1;33m    with open(E:\\Python_Fundamentals_by_Faiyaz\\sample.txt) as file_data_line:\u001b[0m\n\u001b[1;37m               ^\u001b[0m\n\u001b[1;31mSyntaxError\u001b[0m\u001b[1;31m:\u001b[0m invalid syntax\n"
     ]
    }
   ],
   "source": [
    "# read the file data as line by line\n",
    "\n",
    "with open(E:\\Python_Fundamentals_by_Faiyaz\\sample.txt) as file_data_line:\n",
    "    for line in file_data_line:\n",
    "        print(line)"
   ]
  },
  {
   "cell_type": "code",
   "execution_count": 8,
   "metadata": {},
   "outputs": [
    {
     "name": "stdout",
     "output_type": "stream",
     "text": [
      "HI This is Kotaiah Alapati\n",
      "\n",
      "Started learning Python programming by the instructor Faiyaz!!\n"
     ]
    }
   ],
   "source": [
    "with open('E:\\Python_Fundamentals_by_Faiyaz\\sample.txt') as file_data_line:\n",
    "    for line in file_data_line:\n",
    "        print(line)"
   ]
  },
  {
   "cell_type": "code",
   "execution_count": 9,
   "metadata": {},
   "outputs": [
    {
     "name": "stdout",
     "output_type": "stream",
     "text": [
      "Hi This is Kotaiah Alapati\n",
      "\n",
      "Started learning Python programming by the instructor Faiyaz!!\n"
     ]
    }
   ],
   "source": [
    "with open('E:\\Python_Fundamentals_by_Faiyaz\\sample.txt') as file_data_line:\n",
    "    for line in file_data_line:\n",
    "        print(line)"
   ]
  },
  {
   "cell_type": "code",
   "execution_count": null,
   "metadata": {},
   "outputs": [],
   "source": []
  },
  {
   "cell_type": "code",
   "execution_count": null,
   "metadata": {},
   "outputs": [],
   "source": []
  },
  {
   "cell_type": "code",
   "execution_count": null,
   "metadata": {},
   "outputs": [],
   "source": []
  },
  {
   "cell_type": "code",
   "execution_count": null,
   "metadata": {},
   "outputs": [],
   "source": []
  }
 ],
 "metadata": {
  "kernelspec": {
   "display_name": "Python 3",
   "language": "python",
   "name": "python3"
  },
  "language_info": {
   "codemirror_mode": {
    "name": "ipython",
    "version": 3
   },
   "file_extension": ".py",
   "mimetype": "text/x-python",
   "name": "python",
   "nbconvert_exporter": "python",
   "pygments_lexer": "ipython3",
   "version": "3.7.3"
  }
 },
 "nbformat": 4,
 "nbformat_minor": 2
}
