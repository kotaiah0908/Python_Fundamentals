{
 "cells": [
  {
   "cell_type": "code",
   "execution_count": null,
   "metadata": {},
   "outputs": [],
   "source": [
    "# Importing modules:\n",
    "\n",
    "# let us consider a scenario that team of five members planned to do as below in first day:\n",
    "    \n",
    "#    team member name  --->    first day work ---->  second day work\n",
    "#    -----------------       -----------------       ---------------\n",
    "#    bunty             --->     a             --->     c\n",
    "#    jyothi            --->     b             --->     a\n",
    "#    danish            --->     c             --->     e\n",
    "#    bhargavi          --->     d             --->     b\n",
    "#    karuni            --->     e             --->     d"
   ]
  },
  {
   "cell_type": "code",
   "execution_count": null,
   "metadata": {},
   "outputs": [],
   "source": [
    "# above representation shows that each team member done with their work during first day.\n",
    "# In the second day each team member asked to continue with the work that was done by other team member.\n",
    "# so in this case in each team member will import the firstday code from code storage and do enhancements on top of that \n",
    "#    instead of doing from initial.\n",
    "    \n",
    "# ***** importing existing code into system is called as IMPORTING MODULE  *****"
   ]
  },
  {
   "cell_type": "code",
   "execution_count": null,
   "metadata": {},
   "outputs": [],
   "source": [
    "# let us consider that 5 friends planned to order a pizza \n",
    "# so here considerations are  size & topping as per the person's choice\n",
    "#  *** can pass multiple arguments here ***"
   ]
  },
  {
   "cell_type": "code",
   "execution_count": 1,
   "metadata": {},
   "outputs": [],
   "source": [
    "# lets define function\n",
    "\n",
    "def make_pizza(size,*toppings):    # * --> show that passing multiple arguments\n",
    "    \"\"\"Summarize the pizza that we are going to order\"\"\"\n",
    "    print(f\"\\nMaking a {size} - inch pizza\")\n",
    "    for topping in toppings:\n",
    "        print(f\"--{topping}\")"
   ]
  },
  {
   "cell_type": "code",
   "execution_count": null,
   "metadata": {},
   "outputs": [],
   "source": []
  }
 ],
 "metadata": {
  "kernelspec": {
   "display_name": "Python 3",
   "language": "python",
   "name": "python3"
  },
  "language_info": {
   "codemirror_mode": {
    "name": "ipython",
    "version": 3
   },
   "file_extension": ".py",
   "mimetype": "text/x-python",
   "name": "python",
   "nbconvert_exporter": "python",
   "pygments_lexer": "ipython3",
   "version": "3.7.3"
  }
 },
 "nbformat": 4,
 "nbformat_minor": 2
}
