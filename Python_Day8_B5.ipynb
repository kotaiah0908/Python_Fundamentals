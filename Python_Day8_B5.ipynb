{
 "cells": [
  {
   "cell_type": "code",
   "execution_count": 4,
   "metadata": {},
   "outputs": [],
   "source": [
    "# Dictionaries continuation\n",
    "\n",
    "user_0 = {'username':'abcde',\n",
    "         'fname':'first',\n",
    "         'lname':'last',\n",
    "         }"
   ]
  },
  {
   "cell_type": "code",
   "execution_count": 6,
   "metadata": {},
   "outputs": [
    {
     "name": "stdout",
     "output_type": "stream",
     "text": [
      "\n",
      "Key: username\n",
      "\n",
      "Value: abcde\n",
      "\n",
      "Key: fname\n",
      "\n",
      "Value: first\n",
      "\n",
      "Key: lname\n",
      "\n",
      "Value: last\n"
     ]
    }
   ],
   "source": [
    "for k,v in user_0.items():\n",
    "    print(f\"\\nKey: {k}\")\n",
    "    print(f\"\\nValue: {v}\")\n",
    "# we will see both output key, values by using above for loop"
   ]
  },
  {
   "cell_type": "code",
   "execution_count": 5,
   "metadata": {},
   "outputs": [
    {
     "name": "stdout",
     "output_type": "stream",
     "text": [
      "username\n",
      "fname\n",
      "lname\n"
     ]
    }
   ],
   "source": [
    "# how to control the output\n",
    "\n",
    "for k in user_0.keys():\n",
    "    print(k)"
   ]
  },
  {
   "cell_type": "code",
   "execution_count": 7,
   "metadata": {},
   "outputs": [
    {
     "name": "stdout",
     "output_type": "stream",
     "text": [
      "abcde\n",
      "first\n",
      "last\n"
     ]
    }
   ],
   "source": [
    "for v in user_0.values():\n",
    "    print(v)"
   ]
  },
  {
   "cell_type": "code",
   "execution_count": 9,
   "metadata": {},
   "outputs": [],
   "source": [
    "# Nesting of Dictionaries\n",
    "\n",
    "# meaning: storing multiple items in a list or a list of items as a value in a dict.\n",
    "\n",
    "alien_0 = {'colour':'green','points':5}\n",
    "alien_1 = {'colour':'yellow','points':10}\n",
    "alien_2 = {'olour':'red','points':20}"
   ]
  },
  {
   "cell_type": "code",
   "execution_count": 11,
   "metadata": {},
   "outputs": [],
   "source": [
    "# nested dictionaries defined as below\n",
    "aliens = [alien_0, alien_1, alien_2] "
   ]
  },
  {
   "cell_type": "code",
   "execution_count": 12,
   "metadata": {},
   "outputs": [
    {
     "name": "stdout",
     "output_type": "stream",
     "text": [
      "{'colour': 'green', 'points': 5}\n",
      "{'colour': 'yellow', 'points': 10}\n",
      "{'olour': 'red', 'points': 20}\n"
     ]
    }
   ],
   "source": [
    "for alien in aliens:\n",
    "    print(alien)"
   ]
  },
  {
   "cell_type": "code",
   "execution_count": 13,
   "metadata": {},
   "outputs": [],
   "source": [
    "# till now we have covered all data types "
   ]
  },
  {
   "cell_type": "code",
   "execution_count": 14,
   "metadata": {},
   "outputs": [
    {
     "name": "stdout",
     "output_type": "stream",
     "text": [
      "Tell me something, and I will repeat it back to you:Hi this is Kotaiah, I am learning Python\n",
      "Hi this is Kotaiah, I am learning Python\n"
     ]
    }
   ],
   "source": [
    "# accepting the user input ------\n",
    "\n",
    "message = input(\"Tell me something, and I will repeat it back to you:\")  # it will prompt for input information\n",
    "\n",
    "print(message)"
   ]
  },
  {
   "cell_type": "code",
   "execution_count": 15,
   "metadata": {},
   "outputs": [
    {
     "name": "stdout",
     "output_type": "stream",
     "text": [
      "please enter your name:Kotaiah Alapati\n",
      "\n",
      "Hello, Kotaiah Alapati\n"
     ]
    }
   ],
   "source": [
    "# input is used for major acceptance of information\n",
    "\n",
    "name = input('please enter your name:')\n",
    "\n",
    "print(f\"\\nHello, {name}\") "
   ]
  },
  {
   "cell_type": "code",
   "execution_count": 16,
   "metadata": {},
   "outputs": [
    {
     "name": "stdout",
     "output_type": "stream",
     "text": [
      "how old are you?29\n",
      "29\n"
     ]
    }
   ],
   "source": [
    "# Building an vote poling app!!\n",
    "\n",
    "age = input(\"how old are you?\")\n",
    "\n",
    "print(age)"
   ]
  },
  {
   "cell_type": "code",
   "execution_count": 17,
   "metadata": {},
   "outputs": [
    {
     "ename": "TypeError",
     "evalue": "'>=' not supported between instances of 'str' and 'int'",
     "output_type": "error",
     "traceback": [
      "\u001b[1;31m---------------------------------------------------------------------------\u001b[0m",
      "\u001b[1;31mTypeError\u001b[0m                                 Traceback (most recent call last)",
      "\u001b[1;32m<ipython-input-17-4ce6028355cc>\u001b[0m in \u001b[0;36m<module>\u001b[1;34m\u001b[0m\n\u001b[1;32m----> 1\u001b[1;33m \u001b[0mage\u001b[0m \u001b[1;33m>=\u001b[0m \u001b[1;36m18\u001b[0m\u001b[1;33m\u001b[0m\u001b[1;33m\u001b[0m\u001b[0m\n\u001b[0m",
      "\u001b[1;31mTypeError\u001b[0m: '>=' not supported between instances of 'str' and 'int'"
     ]
    }
   ],
   "source": [
    "age >= 18"
   ]
  },
  {
   "cell_type": "code",
   "execution_count": 18,
   "metadata": {},
   "outputs": [
    {
     "data": {
      "text/plain": [
       "True"
      ]
     },
     "execution_count": 18,
     "metadata": {},
     "output_type": "execute_result"
    }
   ],
   "source": [
    "# by default input function will be considering the value entered as string ********\n",
    "\n",
    "# to overcome this error we have a option \"type casting\"\n",
    "# type casting ---> converting one data type to another data type\n",
    "\n",
    "age = int(age)    # cconverting string to integer data type\n",
    "\n",
    "age >=18"
   ]
  },
  {
   "cell_type": "code",
   "execution_count": 19,
   "metadata": {},
   "outputs": [
    {
     "data": {
      "text/plain": [
       "False"
      ]
     },
     "execution_count": 19,
     "metadata": {},
     "output_type": "execute_result"
    }
   ],
   "source": [
    "age <= 18"
   ]
  },
  {
   "cell_type": "code",
   "execution_count": 21,
   "metadata": {},
   "outputs": [
    {
     "name": "stdout",
     "output_type": "stream",
     "text": [
      "How old are you?19\n",
      "you are eligible to vote\n"
     ]
    }
   ],
   "source": [
    "age = input(\"How old are you?\")\n",
    "\n",
    "age = int(age)\n",
    "\n",
    "if age >=18:\n",
    "    print(\"you are eligible to vote\")\n",
    "else:\n",
    "    print(\"you are too young to get the voting right, please try next year\")"
   ]
  },
  {
   "cell_type": "code",
   "execution_count": 23,
   "metadata": {},
   "outputs": [
    {
     "name": "stdout",
     "output_type": "stream",
     "text": [
      "How old are you?17\n",
      "you are too young to get the voting right, please try next year\n"
     ]
    }
   ],
   "source": [
    "age = input(\"How old are you?\")\n",
    "\n",
    "age = int(age)\n",
    "\n",
    "if age >=18:\n",
    "    print(\"you are eligible to vote\")\n",
    "else:\n",
    "    print(\"you are too young to get the voting right, please try next year\")"
   ]
  },
  {
   "cell_type": "code",
   "execution_count": 24,
   "metadata": {},
   "outputs": [],
   "source": [
    "# while loops:\n",
    "\n",
    "# for loop executes for every elements\n",
    "\n",
    "# while loop executes continuously while the condition remains true"
   ]
  },
  {
   "cell_type": "code",
   "execution_count": 26,
   "metadata": {},
   "outputs": [
    {
     "name": "stdout",
     "output_type": "stream",
     "text": [
      "1\n",
      "2\n",
      "3\n",
      "4\n",
      "5\n"
     ]
    }
   ],
   "source": [
    "current_num = 1\n",
    "\n",
    "while current_num <= 5:\n",
    "    print(current_num)\n",
    "    current_num +=1"
   ]
  },
  {
   "cell_type": "code",
   "execution_count": 27,
   "metadata": {},
   "outputs": [],
   "source": [
    "prompt = \"\\n Tell me something and I will print\"\n",
    "\n",
    "prompt += \"\\n Enter 'quit' to end the programme\"\n",
    "\n",
    "message = \"\""
   ]
  },
  {
   "cell_type": "code",
   "execution_count": 28,
   "metadata": {},
   "outputs": [
    {
     "name": "stdout",
     "output_type": "stream",
     "text": [
      "\n",
      " Tell me something and I will print\n",
      " Enter 'quit' to end the programmeHi this is kotaiah\n",
      "Hi this is kotaiah\n",
      "\n",
      " Tell me something and I will print\n",
      " Enter 'quit' to end the programmepresent I am staying in Bangalore\n",
      "present I am staying in Bangalore\n",
      "\n",
      " Tell me something and I will print\n",
      " Enter 'quit' to end the programmemy son is playing well all the time\n",
      "my son is playing well all the time\n",
      "\n",
      " Tell me something and I will print\n",
      " Enter 'quit' to end the programmeit is very good time at home\n",
      "it is very good time at home\n",
      "\n",
      " Tell me something and I will print\n",
      " Enter 'quit' to end the programmemy leaves are end up with good memories\n",
      "my leaves are end up with good memories\n",
      "\n",
      " Tell me something and I will print\n",
      " Enter 'quit' to end the programmequit\n",
      "quit\n"
     ]
    }
   ],
   "source": [
    "while message != 'quit':       # not equal \n",
    "    message = input(prompt)\n",
    "    print(message)\n"
   ]
  },
  {
   "cell_type": "code",
   "execution_count": null,
   "metadata": {},
   "outputs": [],
   "source": []
  }
 ],
 "metadata": {
  "kernelspec": {
   "display_name": "Python 3",
   "language": "python",
   "name": "python3"
  },
  "language_info": {
   "codemirror_mode": {
    "name": "ipython",
    "version": 3
   },
   "file_extension": ".py",
   "mimetype": "text/x-python",
   "name": "python",
   "nbconvert_exporter": "python",
   "pygments_lexer": "ipython3",
   "version": "3.7.3"
  }
 },
 "nbformat": 4,
 "nbformat_minor": 2
}
