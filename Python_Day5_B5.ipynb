{
 "cells": [
  {
   "cell_type": "code",
   "execution_count": 2,
   "metadata": {},
   "outputs": [],
   "source": [
    "# slicing of lists:  splitting the list into sub parts\n",
    "\n",
    "mystudents = ['aditi','alapati','krishna','indrani','reshma']\n"
   ]
  },
  {
   "cell_type": "code",
   "execution_count": 3,
   "metadata": {},
   "outputs": [
    {
     "name": "stdout",
     "output_type": "stream",
     "text": [
      "['aditi', 'alapati', 'krishna', 'indrani', 'reshma']\n"
     ]
    }
   ],
   "source": [
    "# how to consider a group of students out of the given list\n",
    "\n",
    "# req: print first 3 students only\n",
    "\n",
    "print(mystudents)"
   ]
  },
  {
   "cell_type": "code",
   "execution_count": 4,
   "metadata": {},
   "outputs": [
    {
     "name": "stdout",
     "output_type": "stream",
     "text": [
      "['aditi', 'alapati']\n"
     ]
    }
   ],
   "source": [
    "print(mystudents[0:2])"
   ]
  },
  {
   "cell_type": "code",
   "execution_count": null,
   "metadata": {},
   "outputs": [],
   "source": [
    "# indexing will always starts from zero\n",
    "# --- *** always it excludes the last value in the range"
   ]
  },
  {
   "cell_type": "code",
   "execution_count": 5,
   "metadata": {},
   "outputs": [
    {
     "name": "stdout",
     "output_type": "stream",
     "text": [
      "['aditi', 'alapati', 'krishna']\n"
     ]
    }
   ],
   "source": [
    "print(mystudents[0:3])"
   ]
  },
  {
   "cell_type": "code",
   "execution_count": 6,
   "metadata": {},
   "outputs": [
    {
     "name": "stdout",
     "output_type": "stream",
     "text": [
      "['krishna', 'indrani', 'reshma']\n"
     ]
    }
   ],
   "source": [
    "# req: to print the values from Krishna to reshma in the list\n",
    "\n",
    "print(mystudents[2:5])        # here 5 represents last value in the indexing, in the result it will print the elements of 5-1=4"
   ]
  },
  {
   "cell_type": "code",
   "execution_count": 7,
   "metadata": {},
   "outputs": [
    {
     "name": "stdout",
     "output_type": "stream",
     "text": [
      "['aditi', 'alapati', 'krishna']\n"
     ]
    }
   ],
   "source": [
    "print(mystudents[:3])            # here starting position not mentioned, end position defined it means it will consider starting point as zero"
   ]
  },
  {
   "cell_type": "code",
   "execution_count": 8,
   "metadata": {},
   "outputs": [
    {
     "name": "stdout",
     "output_type": "stream",
     "text": [
      "['krishna', 'indrani', 'reshma']\n"
     ]
    }
   ],
   "source": [
    "print(mystudents[2:])       # here no end position , means it will print the element till end"
   ]
  },
  {
   "cell_type": "code",
   "execution_count": 9,
   "metadata": {},
   "outputs": [
    {
     "name": "stdout",
     "output_type": "stream",
     "text": [
      "1\n",
      "2\n",
      "3\n",
      "4\n",
      "5\n",
      "6\n",
      "7\n",
      "8\n",
      "9\n",
      "10\n",
      "11\n",
      "12\n",
      "13\n",
      "14\n",
      "15\n",
      "16\n",
      "17\n",
      "18\n",
      "19\n",
      "20\n",
      "21\n",
      "22\n",
      "23\n",
      "24\n",
      "25\n",
      "26\n",
      "27\n",
      "28\n",
      "29\n",
      "30\n",
      "31\n",
      "32\n",
      "33\n",
      "34\n",
      "35\n",
      "36\n",
      "37\n",
      "38\n",
      "39\n",
      "40\n",
      "41\n",
      "42\n",
      "43\n",
      "44\n",
      "45\n",
      "46\n",
      "47\n",
      "48\n",
      "49\n",
      "50\n",
      "51\n",
      "52\n",
      "53\n",
      "54\n",
      "55\n",
      "56\n",
      "57\n",
      "58\n",
      "59\n",
      "60\n",
      "61\n",
      "62\n",
      "63\n",
      "64\n",
      "65\n",
      "66\n",
      "67\n",
      "68\n",
      "69\n",
      "70\n",
      "71\n",
      "72\n",
      "73\n",
      "74\n",
      "75\n",
      "76\n",
      "77\n",
      "78\n",
      "79\n",
      "80\n",
      "81\n",
      "82\n",
      "83\n",
      "84\n",
      "85\n",
      "86\n",
      "87\n",
      "88\n",
      "89\n",
      "90\n",
      "91\n",
      "92\n",
      "93\n",
      "94\n",
      "95\n",
      "96\n",
      "97\n",
      "98\n",
      "99\n"
     ]
    }
   ],
   "source": [
    "# making numerical list\n",
    "for value in range(1,100):\n",
    "    print(value)"
   ]
  },
  {
   "cell_type": "code",
   "execution_count": null,
   "metadata": {},
   "outputs": [],
   "source": [
    "# excludes last value i.e., 100"
   ]
  },
  {
   "cell_type": "code",
   "execution_count": 10,
   "metadata": {},
   "outputs": [
    {
     "name": "stdout",
     "output_type": "stream",
     "text": [
      "[1, 2, 3, 4, 5, 6, 7, 8, 9, 10, 11, 12, 13, 14, 15, 16, 17, 18, 19, 20, 21, 22, 23, 24, 25, 26, 27, 28, 29, 30, 31, 32, 33, 34, 35, 36, 37, 38, 39, 40, 41, 42, 43, 44, 45, 46, 47, 48, 49]\n"
     ]
    }
   ],
   "source": [
    "numbers = list(range(1,50))\n",
    "\n",
    "print(numbers)"
   ]
  },
  {
   "cell_type": "code",
   "execution_count": 11,
   "metadata": {},
   "outputs": [
    {
     "name": "stdout",
     "output_type": "stream",
     "text": [
      "[2, 4, 6, 8, 10, 12, 14, 16, 18, 20, 22, 24, 26, 28, 30, 32, 34, 36, 38, 40, 42, 44, 46, 48, 50, 52, 54, 56, 58, 60, 62, 64, 66, 68, 70, 72, 74, 76, 78, 80]\n"
     ]
    }
   ],
   "source": [
    "# ***  how to print only even numbers till 80?\n",
    "\n",
    "eve_num = list(range(2,81,2))\n",
    "\n",
    "print(eve_num)"
   ]
  },
  {
   "cell_type": "code",
   "execution_count": null,
   "metadata": {},
   "outputs": [],
   "source": [
    "# Range sysntax\n",
    "\n",
    "#  range  ---> start point, end point, step count"
   ]
  },
  {
   "cell_type": "code",
   "execution_count": 17,
   "metadata": {},
   "outputs": [
    {
     "name": "stdout",
     "output_type": "stream",
     "text": [
      "['aditi', 'alapati', 'krishna', 'indrani', 'reshma', 'mahesh', 'chaitu', 'subbu', 'simha', 'siddu', 'viswam', 'harish']\n"
     ]
    }
   ],
   "source": [
    "# Task for working\n",
    "\n",
    "# slicing mystudents\n",
    "\n",
    "mystudents = ['aditi','alapati','krishna','indrani','reshma','mahesh','chaitu','subbu','simha','siddu','viswam','harish']\n",
    "\n",
    "# here is list defined with 12 elements\n",
    "\n",
    "print(mystudents)"
   ]
  },
  {
   "cell_type": "code",
   "execution_count": 16,
   "metadata": {},
   "outputs": [
    {
     "name": "stdout",
     "output_type": "stream",
     "text": [
      "['alapati', 'indrani', 'mahesh', 'subbu', 'siddu', 'harish']\n"
     ]
    }
   ],
   "source": [
    "# print elements with odd number indexing position\n",
    "\n",
    "print(mystudents[1:12:2])"
   ]
  },
  {
   "cell_type": "code",
   "execution_count": 18,
   "metadata": {},
   "outputs": [
    {
     "name": "stdout",
     "output_type": "stream",
     "text": [
      "['aditi', 'krishna', 'reshma', 'chaitu', 'simha', 'viswam']\n"
     ]
    }
   ],
   "source": [
    "# print elements with even number indexing position\n",
    "\n",
    "print(mystudents[0:12:2])"
   ]
  },
  {
   "cell_type": "code",
   "execution_count": 21,
   "metadata": {},
   "outputs": [
    {
     "name": "stdout",
     "output_type": "stream",
     "text": [
      "['aditi', 'alapati', 'krishna', 'indrani', 'reshma', 'mahesh', 'chaitu', 'subbu', 'simha', 'siddu', 'viswam', 'harish']\n"
     ]
    }
   ],
   "source": [
    "\n",
    "print(mystudents)"
   ]
  },
  {
   "cell_type": "code",
   "execution_count": 23,
   "metadata": {},
   "outputs": [
    {
     "name": "stdout",
     "output_type": "stream",
     "text": [
      "['mushroom', 'chicken', 'corn', 'olive', 'gelapino']\n"
     ]
    }
   ],
   "source": [
    "#  ***** how to make a duplicate copy of the list given   \n",
    "\n",
    "my_food = ['mushroom','chicken','corn','olive','gelapino'] \n",
    "\n",
    "friend1_food = my_food[:]     # *** making duplicate, to avoid modifications on actual one\n",
    "\n",
    "print(friend1_food)"
   ]
  },
  {
   "cell_type": "code",
   "execution_count": null,
   "metadata": {},
   "outputs": [],
   "source": []
  }
 ],
 "metadata": {
  "kernelspec": {
   "display_name": "Python 3",
   "language": "python",
   "name": "python3"
  },
  "language_info": {
   "codemirror_mode": {
    "name": "ipython",
    "version": 3
   },
   "file_extension": ".py",
   "mimetype": "text/x-python",
   "name": "python",
   "nbconvert_exporter": "python",
   "pygments_lexer": "ipython3",
   "version": "3.7.3"
  }
 },
 "nbformat": 4,
 "nbformat_minor": 2
}
